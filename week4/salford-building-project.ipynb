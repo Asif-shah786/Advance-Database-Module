{
    "metadata": {
        "kernelspec": {
            "name": "SQL",
            "display_name": "SQL",
            "language": "sql"
        },
        "language_info": {
            "name": "sql",
            "version": ""
        }
    },
    "nbformat_minor": 2,
    "nbformat": 4,
    "cells": [
        {
            "cell_type": "code",
            "source": [
                "CREATE DATABASE SalfordBuildingProjects;\n",
                "USE SalfordBuildingProjects;"
            ],
            "metadata": {
                "azdata_cell_guid": "dbd422cd-caa5-4fcb-9376-2a243fea76b0",
                "language": "sql",
                "tags": [
                    "hide_input"
                ]
            },
            "outputs": [],
            "execution_count": null
        },
        {
            "cell_type": "code",
            "source": [
                "CREATE TABLE Employees (\n",
                "EmployeeID int IDENTITY(1,1) PRIMARY KEY,\n",
                "FirstName nvarchar(30) NOT NULL,\n",
                "MiddleName nvarchar(30) NULL,\n",
                "LastName nvarchar(30) NOT NULL,\n",
                "DepartmentID tinyint NOT NULL,\n",
                "EmailAddress nvarchar(50) NOT NULL,\n",
                "LineManagerID int NULL,\n",
                "DateJoined date NOT NULL,\n",
                "DateLeft date NULL)"
            ],
            "metadata": {
                "language": "sql",
                "azdata_cell_guid": "c9a6cd3d-a964-4fff-882b-30f9d3fc51d6",
                "tags": []
            },
            "outputs": [],
            "execution_count": null
        },
        {
            "cell_type": "code",
            "source": [
                "CREATE TABLE Department (\n",
                "DepartmentID tinyint IDENTITY(1,1) PRIMARY KEY,\n",
                "DepartmentName nvarchar(30) NOT NULL,\n",
                "DepartmentEmail nvarchar(50) NULL,\n",
                "DepartmentTelephone nvarchar(20) NOT NULL);"
            ],
            "metadata": {
                "language": "sql",
                "azdata_cell_guid": "108aaa7d-34b0-4632-ab43-be4f2dac806c",
                "tags": []
            },
            "outputs": [],
            "execution_count": null
        },
        {
            "cell_type": "code",
            "source": [
                "CREATE TABLE Projects (\n",
                "ProjectID int IDENTITY(1,1) PRIMARY KEY,\n",
                "ProjectName nvarchar(50) NOT NULL,\n",
                "ProjectManagerID int NULL FOREIGN KEY REFERENCES Employees\n",
                "(EmployeeID),\n",
                "StartDate date NULL,\n",
                "EndDate date NULL);"
            ],
            "metadata": {
                "language": "sql",
                "azdata_cell_guid": "9cfc0319-eac8-4503-b212-23903dfd08f3",
                "tags": []
            },
            "outputs": [],
            "execution_count": null
        },
        {
            "cell_type": "markdown",
            "source": [
                "Add Foreign Key Constraints"
            ],
            "metadata": {
                "language": "sql",
                "azdata_cell_guid": "2476fa2a-1196-4116-a918-14f352152b02"
            },
            "attachments": {}
        },
        {
            "cell_type": "code",
            "source": [
                "ALTER TABLE Employees ADD CONSTRAINT fk_department FOREIGN KEY (DepartmentID) REFERENCES Department(DepartmentID)"
            ],
            "metadata": {
                "language": "sql",
                "azdata_cell_guid": "fc5c71fc-7eb2-4034-8b39-7bcff5ad0d30"
            },
            "outputs": [],
            "execution_count": null
        },
        {
            "cell_type": "markdown",
            "source": [
                "Add Self-Referencing Foreign Key"
            ],
            "metadata": {
                "language": "sql",
                "azdata_cell_guid": "971301aa-d7c5-462a-bacf-352d4655bd72"
            },
            "attachments": {}
        },
        {
            "cell_type": "code",
            "source": [
                "ALTER TABLE Employees Add CONSTRAINT fk_employee FOREIGN KEY (LineManagerID) REFERENCES Employees(EmployeeID)"
            ],
            "metadata": {
                "language": "sql",
                "azdata_cell_guid": "65e8aac1-2cab-406a-827a-c7162bf9801d"
            },
            "outputs": [],
            "execution_count": null
        },
        {
            "cell_type": "markdown",
            "source": [
                "**Adding Data**"
            ],
            "metadata": {
                "language": "sql",
                "azdata_cell_guid": "c3134bed-65fe-4d6d-8a58-edeb1cbbe993"
            },
            "attachments": {}
        },
        {
            "cell_type": "code",
            "source": [
                "INSERT INTO Department VALUES ('Marketing', 'marketing@salfordbuildingprojects.co.uk','0161123 4567'), ('HR', 'hr@salfordbuildingprojects.co.uk','0161 123 4568');"
            ],
            "metadata": {
                "language": "sql",
                "azdata_cell_guid": "48992de7-3334-4290-bf2d-f9da25f68784",
                "tags": []
            },
            "outputs": [],
            "execution_count": null
        },
        {
            "cell_type": "code",
            "source": [
                "INSERT INTO Department (DepartmentEmail, DepartmentTelephone,\n",
                "DepartmentName)\n",
                "VALUES ('operations@salfordbuildingprojects.co.uk', '0161 123\n",
                "4590','Operations'),\n",
                "('sales@salfordbuildingprojects.co.uk', '0161 123\n",
                "4591','Sales');"
            ],
            "metadata": {
                "language": "sql",
                "azdata_cell_guid": "19590dca-8987-4a64-9ec1-f652a96458e7"
            },
            "outputs": [],
            "execution_count": null
        },
        {
            "cell_type": "code",
            "source": [
                "INSERT INTO Employees\n",
                "VALUES ('Beatrice', 'Alice', ' Robinson', 2,\n",
                "'b.robinson@salfordbuildingprojects.co.uk', NULL,'2020-08-30',\n",
                "NULL);"
            ],
            "metadata": {
                "language": "sql",
                "azdata_cell_guid": "e216dd28-ac13-4851-868c-917ebb72fe7b"
            },
            "outputs": [],
            "execution_count": null
        },
        {
            "cell_type": "code",
            "source": [
                "INSERT INTO Employees (FirstName, LastName, DepartmentID,\n",
                "EmailAddress, DateJoined)\n",
                "VALUES ('Charles', 'Dotson', 3, 9000, '2018-02-14');"
            ],
            "metadata": {
                "language": "sql",
                "azdata_cell_guid": "1c327957-a97f-46e9-9efd-16cf0ede651c",
                "tags": []
            },
            "outputs": [],
            "execution_count": null
        },
        {
            "cell_type": "code",
            "source": [
                "SELECT * from Employees\n",
                "SELECT * from Department"
            ],
            "metadata": {
                "language": "sql",
                "azdata_cell_guid": "63c67fb2-4389-4b15-b88e-26d21ccc7a85"
            },
            "outputs": [],
            "execution_count": null
        },
        {
            "cell_type": "code",
            "source": [
                "-- Ejimofor Chinweuba manages two projects, ‘Riverbank Way’ and ‘Crescent\n",
                "-- Towers’; they both started 23rd October 2019 and are on-going.\n",
                "-- • Zhen Pai was managing the ‘Manchester Mall’ project which started on the 6th\n",
                "-- November 2017 but this finished on the 8th August 2022.\n",
                "\n",
                "-- INSERT INTO projects(ProjectName, StartDate) values ('Riverbank Way', '2019-10-23'), ('CrescentTowers', '2019-10-23')\n",
                "-- INSERT INTO projects(ProjectName, StartDate, EndDate, ProjectManagerID) values ('Manchester Mal', '06-11-2017', '08-08-2022',  (SELECT EmployeeID FROM Employees WHERE FirstName = 'Zhen' AND LastName = 'Pai'))\n",
                "\n",
                "-- INSERT INTO Employees (FirstName, LastName, DateJoined, DepartmentID, EmailAddress) VALUES ('Zhen', 'Pai', '08-08-2022', 3, 'z.pai@salfordbuildingprojects.co.uk')\n",
                "-- INSERT INTO Employees (FirstName, LastName, DateJoined, DepartmentID, EmailAddress) VALUES ('Ejimofor', 'Chinweuba', '2019-10-23', 3, 'e.chinweuba@salfordbuildingprojects.co.uk')\n",
                "\n",
                "\n",
                "-- UPDATE projects \n",
                "-- SET ProjectManagerID = (SELECT TOP 1 employeeID FROM employees WHERE FirstName = 'Ejimofor')\n",
                "-- WHERE projectID IN (1, 2);\n",
                "\n",
                "Select * from Employees\n",
                "Select * from projects\n",
                "\n",
                ""
            ],
            "metadata": {
                "language": "sql",
                "azdata_cell_guid": "4d476800-7a5d-4ac5-b226-731b33a61604",
                "tags": []
            },
            "outputs": [],
            "execution_count": null
        },
        {
            "cell_type": "code",
            "source": [
                "UPDATE Employees\n",
                "SET EmailAddress = 'c.dotson@salfordbuildingprojects.co.uk'\n",
                "WHERE EmailAddress = '9000';"
            ],
            "metadata": {
                "language": "sql",
                "azdata_cell_guid": "7283aeb2-d36b-45f8-8e71-beeba6c49fd5"
            },
            "outputs": [
                {
                    "output_type": "display_data",
                    "data": {
                        "text/html": "(1 row affected)"
                    },
                    "metadata": {}
                },
                {
                    "output_type": "display_data",
                    "data": {
                        "text/html": "Total execution time: 00:00:00.010"
                    },
                    "metadata": {}
                }
            ],
            "execution_count": 62
        },
        {
            "cell_type": "code",
            "source": [
                "-- UPDATE Projects SET enddate = '2022-12-17' where ProjectManagerID = (SELECT TOP 1 employeeID FROM employees WHERE FirstName = 'Ejimofor')\n",
                "-- UPDATE department SET DepartmentEmail = NULL\n",
                "-- \n",
                "select * from department;\n",
                "\n",
                "UPDATE department\n",
                "SET DepartmentTelephone = '0161 123 4592'\n",
                "WHERE DepartmentTelephone LIKE '0161 123 456_';\n",
                "\n",
                "select * from department;\n",
                "\n",
                ""
            ],
            "metadata": {
                "language": "sql",
                "azdata_cell_guid": "4db7e9f8-5864-41c1-867f-a7ebfc4187d1",
                "tags": []
            },
            "outputs": [
                {
                    "output_type": "display_data",
                    "data": {
                        "text/html": "(4 rows affected)"
                    },
                    "metadata": {}
                },
                {
                    "output_type": "display_data",
                    "data": {
                        "text/html": "(1 row affected)"
                    },
                    "metadata": {}
                },
                {
                    "output_type": "display_data",
                    "data": {
                        "text/html": "(4 rows affected)"
                    },
                    "metadata": {}
                },
                {
                    "output_type": "display_data",
                    "data": {
                        "text/html": "Total execution time: 00:00:00.017"
                    },
                    "metadata": {}
                },
                {
                    "output_type": "execute_result",
                    "metadata": {},
                    "execution_count": 78,
                    "data": {
                        "application/vnd.dataresource+json": {
                            "schema": {
                                "fields": [
                                    {
                                        "name": "DepartmentID"
                                    },
                                    {
                                        "name": "DepartmentName"
                                    },
                                    {
                                        "name": "DepartmentEmail"
                                    },
                                    {
                                        "name": "DepartmentTelephone"
                                    }
                                ]
                            },
                            "data": [
                                {
                                    "DepartmentID": "1",
                                    "DepartmentName": "Marketing",
                                    "DepartmentEmail": "NULL",
                                    "DepartmentTelephone": "0161123 4567"
                                },
                                {
                                    "DepartmentID": "2",
                                    "DepartmentName": "HR",
                                    "DepartmentEmail": "NULL",
                                    "DepartmentTelephone": "0161 123 4568"
                                },
                                {
                                    "DepartmentID": "3",
                                    "DepartmentName": "Operations",
                                    "DepartmentEmail": "NULL",
                                    "DepartmentTelephone": "0161 123\n4590"
                                },
                                {
                                    "DepartmentID": "4",
                                    "DepartmentName": "Sales",
                                    "DepartmentEmail": "NULL",
                                    "DepartmentTelephone": "0161 123\n4591"
                                }
                            ]
                        },
                        "text/html": [
                            "<table>",
                            "<tr><th>DepartmentID</th><th>DepartmentName</th><th>DepartmentEmail</th><th>DepartmentTelephone</th></tr>",
                            "<tr><td>1</td><td>Marketing</td><td>NULL</td><td>0161123 4567</td></tr>",
                            "<tr><td>2</td><td>HR</td><td>NULL</td><td>0161 123 4568</td></tr>",
                            "<tr><td>3</td><td>Operations</td><td>NULL</td><td>0161 123\n4590</td></tr>",
                            "<tr><td>4</td><td>Sales</td><td>NULL</td><td>0161 123\n4591</td></tr>",
                            "</table>"
                        ]
                    }
                },
                {
                    "output_type": "execute_result",
                    "metadata": {},
                    "execution_count": 78,
                    "data": {
                        "application/vnd.dataresource+json": {
                            "schema": {
                                "fields": [
                                    {
                                        "name": "DepartmentID"
                                    },
                                    {
                                        "name": "DepartmentName"
                                    },
                                    {
                                        "name": "DepartmentEmail"
                                    },
                                    {
                                        "name": "DepartmentTelephone"
                                    }
                                ]
                            },
                            "data": [
                                {
                                    "DepartmentID": "1",
                                    "DepartmentName": "Marketing",
                                    "DepartmentEmail": "NULL",
                                    "DepartmentTelephone": "0161123 4567"
                                },
                                {
                                    "DepartmentID": "2",
                                    "DepartmentName": "HR",
                                    "DepartmentEmail": "NULL",
                                    "DepartmentTelephone": "0161 123 4592"
                                },
                                {
                                    "DepartmentID": "3",
                                    "DepartmentName": "Operations",
                                    "DepartmentEmail": "NULL",
                                    "DepartmentTelephone": "0161 123\n4590"
                                },
                                {
                                    "DepartmentID": "4",
                                    "DepartmentName": "Sales",
                                    "DepartmentEmail": "NULL",
                                    "DepartmentTelephone": "0161 123\n4591"
                                }
                            ]
                        },
                        "text/html": [
                            "<table>",
                            "<tr><th>DepartmentID</th><th>DepartmentName</th><th>DepartmentEmail</th><th>DepartmentTelephone</th></tr>",
                            "<tr><td>1</td><td>Marketing</td><td>NULL</td><td>0161123 4567</td></tr>",
                            "<tr><td>2</td><td>HR</td><td>NULL</td><td>0161 123 4592</td></tr>",
                            "<tr><td>3</td><td>Operations</td><td>NULL</td><td>0161 123\n4590</td></tr>",
                            "<tr><td>4</td><td>Sales</td><td>NULL</td><td>0161 123\n4591</td></tr>",
                            "</table>"
                        ]
                    }
                }
            ],
            "execution_count": 78
        },
        {
            "cell_type": "code",
            "source": [
                "-- Delete From department where DepartmentName = 'Marketing';\n",
                "-- Update department SET departmentName = 'Sales & Marketing' where departmentName = 'Sales'\n",
                "\n",
                "delete from department where departmentName = 'HR'\n",
                "select * from department\n",
                "select * from employees"
            ],
            "metadata": {
                "language": "sql",
                "azdata_cell_guid": "6418cf6c-312a-43d9-8021-0fffed90add5"
            },
            "outputs": [
                {
                    "output_type": "display_data",
                    "data": {
                        "text/html": "The statement has been terminated."
                    },
                    "metadata": {}
                },
                {
                    "output_type": "display_data",
                    "data": {
                        "text/html": "(3 rows affected)"
                    },
                    "metadata": {}
                },
                {
                    "output_type": "display_data",
                    "data": {
                        "text/html": "(4 rows affected)"
                    },
                    "metadata": {}
                },
                {
                    "output_type": "display_data",
                    "data": {
                        "text/html": "Total execution time: 00:00:00.008"
                    },
                    "metadata": {}
                },
                {
                    "output_type": "execute_result",
                    "metadata": {},
                    "execution_count": 83,
                    "data": {
                        "application/vnd.dataresource+json": {
                            "schema": {
                                "fields": [
                                    {
                                        "name": "DepartmentID"
                                    },
                                    {
                                        "name": "DepartmentName"
                                    },
                                    {
                                        "name": "DepartmentEmail"
                                    },
                                    {
                                        "name": "DepartmentTelephone"
                                    }
                                ]
                            },
                            "data": [
                                {
                                    "DepartmentID": "2",
                                    "DepartmentName": "HR",
                                    "DepartmentEmail": "NULL",
                                    "DepartmentTelephone": "0161 123 4592"
                                },
                                {
                                    "DepartmentID": "3",
                                    "DepartmentName": "Operations",
                                    "DepartmentEmail": "NULL",
                                    "DepartmentTelephone": "0161 123\n4590"
                                },
                                {
                                    "DepartmentID": "4",
                                    "DepartmentName": "Sales & Marketing",
                                    "DepartmentEmail": "NULL",
                                    "DepartmentTelephone": "0161 123\n4591"
                                }
                            ]
                        },
                        "text/html": [
                            "<table>",
                            "<tr><th>DepartmentID</th><th>DepartmentName</th><th>DepartmentEmail</th><th>DepartmentTelephone</th></tr>",
                            "<tr><td>2</td><td>HR</td><td>NULL</td><td>0161 123 4592</td></tr>",
                            "<tr><td>3</td><td>Operations</td><td>NULL</td><td>0161 123\n4590</td></tr>",
                            "<tr><td>4</td><td>Sales &amp; Marketing</td><td>NULL</td><td>0161 123\n4591</td></tr>",
                            "</table>"
                        ]
                    }
                },
                {
                    "output_type": "execute_result",
                    "metadata": {},
                    "execution_count": 83,
                    "data": {
                        "application/vnd.dataresource+json": {
                            "schema": {
                                "fields": [
                                    {
                                        "name": "EmployeeID"
                                    },
                                    {
                                        "name": "FirstName"
                                    },
                                    {
                                        "name": "MiddleName"
                                    },
                                    {
                                        "name": "LastName"
                                    },
                                    {
                                        "name": "DepartmentID"
                                    },
                                    {
                                        "name": "EmailAddress"
                                    },
                                    {
                                        "name": "LineManagerID"
                                    },
                                    {
                                        "name": "DateJoined"
                                    },
                                    {
                                        "name": "DateLeft"
                                    }
                                ]
                            },
                            "data": [
                                {
                                    "EmployeeID": "1",
                                    "FirstName": "Beatrice",
                                    "MiddleName": "Alice",
                                    "LastName": " Robinson",
                                    "DepartmentID": "2",
                                    "EmailAddress": "b.robinson@salfordbuildingprojects.co.uk",
                                    "LineManagerID": "NULL",
                                    "DateJoined": "2020-08-30",
                                    "DateLeft": "NULL"
                                },
                                {
                                    "EmployeeID": "5",
                                    "FirstName": "Charles",
                                    "MiddleName": "NULL",
                                    "LastName": "Dotson",
                                    "DepartmentID": "3",
                                    "EmailAddress": "c.dotson@salfordbuildingprojects.co.uk",
                                    "LineManagerID": "NULL",
                                    "DateJoined": "2018-02-14",
                                    "DateLeft": "NULL"
                                },
                                {
                                    "EmployeeID": "10",
                                    "FirstName": "Zhen",
                                    "MiddleName": "NULL",
                                    "LastName": "Pai",
                                    "DepartmentID": "3",
                                    "EmailAddress": "z.pai@salfordbuildingprojects.co.uk",
                                    "LineManagerID": "NULL",
                                    "DateJoined": "2022-08-08",
                                    "DateLeft": "NULL"
                                },
                                {
                                    "EmployeeID": "11",
                                    "FirstName": "Ejimofor",
                                    "MiddleName": "NULL",
                                    "LastName": "Chinweuba",
                                    "DepartmentID": "3",
                                    "EmailAddress": "e.chinweuba@salfordbuildingprojects.co.uk",
                                    "LineManagerID": "NULL",
                                    "DateJoined": "2019-10-23",
                                    "DateLeft": "NULL"
                                }
                            ]
                        },
                        "text/html": [
                            "<table>",
                            "<tr><th>EmployeeID</th><th>FirstName</th><th>MiddleName</th><th>LastName</th><th>DepartmentID</th><th>EmailAddress</th><th>LineManagerID</th><th>DateJoined</th><th>DateLeft</th></tr>",
                            "<tr><td>1</td><td>Beatrice</td><td>Alice</td><td> Robinson</td><td>2</td><td>b.robinson@salfordbuildingprojects.co.uk</td><td>NULL</td><td>2020-08-30</td><td>NULL</td></tr>",
                            "<tr><td>5</td><td>Charles</td><td>NULL</td><td>Dotson</td><td>3</td><td>c.dotson@salfordbuildingprojects.co.uk</td><td>NULL</td><td>2018-02-14</td><td>NULL</td></tr>",
                            "<tr><td>10</td><td>Zhen</td><td>NULL</td><td>Pai</td><td>3</td><td>z.pai@salfordbuildingprojects.co.uk</td><td>NULL</td><td>2022-08-08</td><td>NULL</td></tr>",
                            "<tr><td>11</td><td>Ejimofor</td><td>NULL</td><td>Chinweuba</td><td>3</td><td>e.chinweuba@salfordbuildingprojects.co.uk</td><td>NULL</td><td>2019-10-23</td><td>NULL</td></tr>",
                            "</table>"
                        ]
                    }
                },
                {
                    "output_type": "error",
                    "evalue": "Msg 547, Level 16, State 0, Line 4\nThe DELETE statement conflicted with the REFERENCE constraint \"fk_department\". The conflict occurred in database \"SalfordBuildingProjects\", table \"dbo.Employees\", column 'DepartmentID'.",
                    "ename": "",
                    "traceback": []
                }
            ],
            "execution_count": 83
        },
        {
            "cell_type": "code",
            "source": [
                "-- tried to delete HR dept but couldn't reason? cause if it's deleted this menas the Beatrice in Employee will has NULL deptID which is not possible as it was set to NOT NULL.\n",
                "-- To remove dept Sales, i'll first empty it. \n",
                "-- moving employee from sales to operations.\n",
                "\n",
                "-- UPDATE employees\n",
                "-- SET departmentID = (SELECT departmentID FROM department WHERE departmentName = 'Operations')\n",
                "-- WHERE departmentID = (SELECT departmentID FROM department WHERE departmentName = 'HR');\n",
                "\n",
                "Delete FROM department where departmentName = 'HR'\n",
                "select * from department\n",
                "select * from employees"
            ],
            "metadata": {
                "language": "sql",
                "azdata_cell_guid": "5a9870da-b5f1-473c-8c18-51f5cc5a804d"
            },
            "outputs": [
                {
                    "output_type": "display_data",
                    "data": {
                        "text/html": "(1 row affected)"
                    },
                    "metadata": {}
                },
                {
                    "output_type": "display_data",
                    "data": {
                        "text/html": "(2 rows affected)"
                    },
                    "metadata": {}
                },
                {
                    "output_type": "display_data",
                    "data": {
                        "text/html": "(4 rows affected)"
                    },
                    "metadata": {}
                },
                {
                    "output_type": "display_data",
                    "data": {
                        "text/html": "Total execution time: 00:00:00.011"
                    },
                    "metadata": {}
                },
                {
                    "output_type": "execute_result",
                    "metadata": {},
                    "execution_count": 88,
                    "data": {
                        "application/vnd.dataresource+json": {
                            "schema": {
                                "fields": [
                                    {
                                        "name": "DepartmentID"
                                    },
                                    {
                                        "name": "DepartmentName"
                                    },
                                    {
                                        "name": "DepartmentEmail"
                                    },
                                    {
                                        "name": "DepartmentTelephone"
                                    }
                                ]
                            },
                            "data": [
                                {
                                    "DepartmentID": "3",
                                    "DepartmentName": "Operations",
                                    "DepartmentEmail": "NULL",
                                    "DepartmentTelephone": "0161 123\n4590"
                                },
                                {
                                    "DepartmentID": "4",
                                    "DepartmentName": "Sales & Marketing",
                                    "DepartmentEmail": "NULL",
                                    "DepartmentTelephone": "0161 123\n4591"
                                }
                            ]
                        },
                        "text/html": [
                            "<table>",
                            "<tr><th>DepartmentID</th><th>DepartmentName</th><th>DepartmentEmail</th><th>DepartmentTelephone</th></tr>",
                            "<tr><td>3</td><td>Operations</td><td>NULL</td><td>0161 123\n4590</td></tr>",
                            "<tr><td>4</td><td>Sales &amp; Marketing</td><td>NULL</td><td>0161 123\n4591</td></tr>",
                            "</table>"
                        ]
                    }
                },
                {
                    "output_type": "execute_result",
                    "metadata": {},
                    "execution_count": 88,
                    "data": {
                        "application/vnd.dataresource+json": {
                            "schema": {
                                "fields": [
                                    {
                                        "name": "EmployeeID"
                                    },
                                    {
                                        "name": "FirstName"
                                    },
                                    {
                                        "name": "MiddleName"
                                    },
                                    {
                                        "name": "LastName"
                                    },
                                    {
                                        "name": "DepartmentID"
                                    },
                                    {
                                        "name": "EmailAddress"
                                    },
                                    {
                                        "name": "LineManagerID"
                                    },
                                    {
                                        "name": "DateJoined"
                                    },
                                    {
                                        "name": "DateLeft"
                                    }
                                ]
                            },
                            "data": [
                                {
                                    "EmployeeID": "1",
                                    "FirstName": "Beatrice",
                                    "MiddleName": "Alice",
                                    "LastName": " Robinson",
                                    "DepartmentID": "3",
                                    "EmailAddress": "b.robinson@salfordbuildingprojects.co.uk",
                                    "LineManagerID": "NULL",
                                    "DateJoined": "2020-08-30",
                                    "DateLeft": "NULL"
                                },
                                {
                                    "EmployeeID": "5",
                                    "FirstName": "Charles",
                                    "MiddleName": "NULL",
                                    "LastName": "Dotson",
                                    "DepartmentID": "3",
                                    "EmailAddress": "c.dotson@salfordbuildingprojects.co.uk",
                                    "LineManagerID": "NULL",
                                    "DateJoined": "2018-02-14",
                                    "DateLeft": "NULL"
                                },
                                {
                                    "EmployeeID": "10",
                                    "FirstName": "Zhen",
                                    "MiddleName": "NULL",
                                    "LastName": "Pai",
                                    "DepartmentID": "3",
                                    "EmailAddress": "z.pai@salfordbuildingprojects.co.uk",
                                    "LineManagerID": "NULL",
                                    "DateJoined": "2022-08-08",
                                    "DateLeft": "NULL"
                                },
                                {
                                    "EmployeeID": "11",
                                    "FirstName": "Ejimofor",
                                    "MiddleName": "NULL",
                                    "LastName": "Chinweuba",
                                    "DepartmentID": "3",
                                    "EmailAddress": "e.chinweuba@salfordbuildingprojects.co.uk",
                                    "LineManagerID": "NULL",
                                    "DateJoined": "2019-10-23",
                                    "DateLeft": "NULL"
                                }
                            ]
                        },
                        "text/html": [
                            "<table>",
                            "<tr><th>EmployeeID</th><th>FirstName</th><th>MiddleName</th><th>LastName</th><th>DepartmentID</th><th>EmailAddress</th><th>LineManagerID</th><th>DateJoined</th><th>DateLeft</th></tr>",
                            "<tr><td>1</td><td>Beatrice</td><td>Alice</td><td> Robinson</td><td>3</td><td>b.robinson@salfordbuildingprojects.co.uk</td><td>NULL</td><td>2020-08-30</td><td>NULL</td></tr>",
                            "<tr><td>5</td><td>Charles</td><td>NULL</td><td>Dotson</td><td>3</td><td>c.dotson@salfordbuildingprojects.co.uk</td><td>NULL</td><td>2018-02-14</td><td>NULL</td></tr>",
                            "<tr><td>10</td><td>Zhen</td><td>NULL</td><td>Pai</td><td>3</td><td>z.pai@salfordbuildingprojects.co.uk</td><td>NULL</td><td>2022-08-08</td><td>NULL</td></tr>",
                            "<tr><td>11</td><td>Ejimofor</td><td>NULL</td><td>Chinweuba</td><td>3</td><td>e.chinweuba@salfordbuildingprojects.co.uk</td><td>NULL</td><td>2019-10-23</td><td>NULL</td></tr>",
                            "</table>"
                        ]
                    }
                }
            ],
            "execution_count": 88
        }
    ]
}