{
    "metadata": {
        "kernelspec": {
            "name": "SQL",
            "display_name": "SQL",
            "language": "sql"
        },
        "language_info": {
            "name": "sql",
            "version": ""
        }
    },
    "nbformat_minor": 2,
    "nbformat": 4,
    "cells": [
        {
            "cell_type": "code",
            "source": [
                "CREATE DATABASE SalfordBuildingProjects;\n",
                "USE SalfordBuildingProjects;"
            ],
            "metadata": {
                "azdata_cell_guid": "dbd422cd-caa5-4fcb-9376-2a243fea76b0",
                "language": "sql",
                "tags": [
                    "hide_input"
                ]
            },
            "outputs": [],
            "execution_count": null
        },
        {
            "cell_type": "code",
            "source": [
                "CREATE TABLE Employees (\n",
                "EmployeeID int IDENTITY(1,1) PRIMARY KEY,\n",
                "FirstName nvarchar(30) NOT NULL,\n",
                "MiddleName nvarchar(30) NULL,\n",
                "LastName nvarchar(30) NOT NULL,\n",
                "DepartmentID tinyint NOT NULL,\n",
                "EmailAddress nvarchar(50) NOT NULL,\n",
                "LineManagerID int NULL,\n",
                "DateJoined date NOT NULL,\n",
                "DateLeft date NULL)"
            ],
            "metadata": {
                "language": "sql",
                "azdata_cell_guid": "c9a6cd3d-a964-4fff-882b-30f9d3fc51d6",
                "tags": [
                    "hide_input"
                ]
            },
            "outputs": [],
            "execution_count": null
        },
        {
            "cell_type": "code",
            "source": [
                "CREATE TABLE Department (\n",
                "DepartmentID tinyint IDENTITY(1,1) PRIMARY KEY,\n",
                "DepartmentName nvarchar(30) NOT NULL,\n",
                "DepartmentEmail nvarchar(50) NULL,\n",
                "DepartmentTelephone nvarchar(20) NOT NULL);"
            ],
            "metadata": {
                "language": "sql",
                "azdata_cell_guid": "108aaa7d-34b0-4632-ab43-be4f2dac806c",
                "tags": [
                    "hide_input"
                ]
            },
            "outputs": [],
            "execution_count": null
        },
        {
            "cell_type": "code",
            "source": [
                "CREATE TABLE Projects (\n",
                "ProjectID int IDENTITY(1,1) PRIMARY KEY,\n",
                "ProjectName nvarchar(50) NOT NULL,\n",
                "ProjectManagerID int NULL FOREIGN KEY REFERENCES Employees\n",
                "(EmployeeID),\n",
                "StartDate date NULL,\n",
                "EndDate date NULL);"
            ],
            "metadata": {
                "language": "sql",
                "azdata_cell_guid": "9cfc0319-eac8-4503-b212-23903dfd08f3",
                "tags": [
                    "hide_input"
                ]
            },
            "outputs": [],
            "execution_count": null
        },
        {
            "cell_type": "markdown",
            "source": [
                "Add Foreign Key Constraints"
            ],
            "metadata": {
                "language": "sql",
                "azdata_cell_guid": "2476fa2a-1196-4116-a918-14f352152b02"
            },
            "attachments": {}
        },
        {
            "cell_type": "code",
            "source": [
                "ALTER TABLE Employees ADD CONSTRAINT fk_department FOREIGN KEY (DepartmentID) REFERENCES Department(DepartmentID)"
            ],
            "metadata": {
                "language": "sql",
                "azdata_cell_guid": "fc5c71fc-7eb2-4034-8b39-7bcff5ad0d30"
            },
            "outputs": [],
            "execution_count": null
        },
        {
            "cell_type": "markdown",
            "source": [
                "Add Self-Referencing Foreign Key"
            ],
            "metadata": {
                "language": "sql",
                "azdata_cell_guid": "971301aa-d7c5-462a-bacf-352d4655bd72"
            },
            "attachments": {}
        },
        {
            "cell_type": "code",
            "source": [
                "ALTER TABLE Employees Add CONSTRAINT fk_employee FOREIGN KEY (LineManagerID) REFERENCES Employees(EmployeeID)"
            ],
            "metadata": {
                "language": "sql",
                "azdata_cell_guid": "65e8aac1-2cab-406a-827a-c7162bf9801d"
            },
            "outputs": [],
            "execution_count": null
        },
        {
            "cell_type": "code",
            "source": [
                ""
            ],
            "metadata": {
                "language": "sql",
                "azdata_cell_guid": "48992de7-3334-4290-bf2d-f9da25f68784"
            },
            "outputs": [],
            "execution_count": null
        }
    ]
}