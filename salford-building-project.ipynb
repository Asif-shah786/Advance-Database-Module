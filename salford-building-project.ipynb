{
    "metadata": {
        "kernelspec": {
            "name": "SQL",
            "display_name": "SQL",
            "language": "sql"
        },
        "language_info": {
            "name": "sql",
            "version": ""
        }
    },
    "nbformat_minor": 2,
    "nbformat": 4,
    "cells": [
        {
            "cell_type": "code",
            "source": [
                "CREATE DATABASE SalfordBuildingProjects;"
            ],
            "metadata": {
                "azdata_cell_guid": "dbd422cd-caa5-4fcb-9376-2a243fea76b0",
                "language": "sql"
            },
            "outputs": [
                {
                    "output_type": "error",
                    "evalue": "Msg 1801, Level 16, State 3, Line 1\nDatabase 'SalfordBuildingProjects' already exists. Choose a different database name.",
                    "ename": "",
                    "traceback": []
                },
                {
                    "output_type": "display_data",
                    "data": {
                        "text/html": "Total execution time: 00:00:00.011"
                    },
                    "metadata": {}
                }
            ],
            "execution_count": 1
        },
        {
            "cell_type": "code",
            "source": [
                "USE SalfordBuildingProjects;\n",
                "CREATE TABLE Employees (\n",
                "EmployeeID int IDENTITY(1,1) PRIMARY KEY,\n",
                "FirstName nvarchar(30) NOT NULL,\n",
                "MiddleName nvarchar(30) NULL,\n",
                "LastName nvarchar(30) NOT NULL,\n",
                "DepartmentID tinyint NOT NULL,\n",
                "EmailAddress nvarchar(50) NOT NULL,\n",
                "LineManagerID int NULL,\n",
                "DateJoined date NOT NULL,\n",
                "DateLeft date NULL)"
            ],
            "metadata": {
                "language": "sql",
                "azdata_cell_guid": "c9a6cd3d-a964-4fff-882b-30f9d3fc51d6"
            },
            "outputs": [
                {
                    "output_type": "error",
                    "evalue": "Msg 2714, Level 16, State 6, Line 2\nThere is already an object named 'Employees' in the database.",
                    "ename": "",
                    "traceback": []
                },
                {
                    "output_type": "display_data",
                    "data": {
                        "text/html": "Total execution time: 00:00:00.003"
                    },
                    "metadata": {}
                }
            ],
            "execution_count": 2
        },
        {
            "cell_type": "code",
            "source": [
                "CREATE TABLE Department (\n",
                "DepartmentID tinyint IDENTITY(1,1) PRIMARY KEY,\n",
                "DepartmentName nvarchar(30) NOT NULL,\n",
                "DepartmentEmail nvarchar(50) NULL,\n",
                "DepartmentTelephone nvarchar(20) NOT NULL);"
            ],
            "metadata": {
                "language": "sql",
                "azdata_cell_guid": "108aaa7d-34b0-4632-ab43-be4f2dac806c"
            },
            "outputs": [
                {
                    "output_type": "display_data",
                    "data": {
                        "text/html": "Commands completed successfully."
                    },
                    "metadata": {}
                },
                {
                    "output_type": "display_data",
                    "data": {
                        "text/html": "Total execution time: 00:00:00.012"
                    },
                    "metadata": {}
                }
            ],
            "execution_count": 3
        }
    ]
}